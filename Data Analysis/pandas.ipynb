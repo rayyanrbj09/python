{
 "cells": [
  {
   "cell_type": "code",
   "execution_count": 1,
   "metadata": {},
   "outputs": [
    {
     "name": "stdout",
     "output_type": "stream",
     "text": [
      "0    10\n",
      "1    20\n",
      "2    30\n",
      "3    40\n",
      "4    50\n",
      "dtype: int64\n"
     ]
    }
   ],
   "source": [
    "import pandas as pd \n",
    "\n",
    "# Series with default index\n",
    "data = [10, 20, 30, 40, 50]\n",
    "series = pd.Series(data)\n",
    "print(series)"
   ]
  },
  {
   "cell_type": "code",
   "execution_count": 3,
   "metadata": {},
   "outputs": [
    {
     "name": "stdout",
     "output_type": "stream",
     "text": [
      "101    a\n",
      "102    b\n",
      "103    c\n",
      "104    d\n",
      "105    e\n",
      "dtype: object\n"
     ]
    }
   ],
   "source": [
    "# Series with custom index\n",
    "series = pd.Series(['a', 'b', 'c', 'd', 'e'], index=[101, 102, 103, 104, 105])\n",
    "print(series)"
   ]
  },
  {
   "cell_type": "code",
   "execution_count": null,
   "metadata": {},
   "outputs": [
    {
     "name": "stdout",
     "output_type": "stream",
     "text": [
      "                Name  Age       City     Interest\n",
      "0  Rayyan Bin Jaweed   21    Karachi  Programming\n",
      "1   Syed Akber Ahmed   22     Lahore      Cricket\n",
      "2       Muhammad Ali   23  Islamabad     Football\n",
      "3     Muhammad Usman   24     Quetta       Hockey\n",
      "4     Muhammad Uzair   25   Peshawar   Basketball\n"
     ]
    }
   ],
   "source": [
    "# Creating a dataframe from a dictionary\n",
    "dict = {\n",
    "    'Name': ['Rayyan Bin Jaweed', 'Syed Akber Ahmed', 'Muhammad Ali', 'Muhammad Usman', 'Muhammad Uzair'], # List of names, ROWS of the dataframe\n",
    "    'Age': [21, 22, 23, 24, 25],\n",
    "    'City': ['Karachi', 'Lahore', 'Islamabad', 'Quetta', 'Peshawar'],\n",
    "    'Interest': ['Programming', 'Cricket', 'Football', 'Hockey', 'Basketball']\n",
    "}\n",
    "df = pd.DataFrame(dict)\n",
    "print(df)"
   ]
  },
  {
   "cell_type": "code",
   "execution_count": 7,
   "metadata": {},
   "outputs": [
    {
     "name": "stdout",
     "output_type": "stream",
     "text": [
      "      Name  Age  Salary\n",
      "0    Alice   25   50000\n",
      "1      Bob   30   60000\n",
      "2  Charlie   35   70000\n"
     ]
    }
   ],
   "source": [
    "# Lists create specific columns\n",
    "df2 = pd.DataFrame([\n",
    "    ['Alice', 25, 50000],\n",
    "    ['Bob', 30, 60000],\n",
    "    ['Charlie', 35, 70000]\n",
    "], columns=['Name', 'Age', 'Salary'])\n",
    "\n",
    "print(df2)\n"
   ]
  },
  {
   "cell_type": "code",
   "execution_count": null,
   "metadata": {},
   "outputs": [],
   "source": []
  }
 ],
 "metadata": {
  "kernelspec": {
   "display_name": "Python 3",
   "language": "python",
   "name": "python3"
  },
  "language_info": {
   "codemirror_mode": {
    "name": "ipython",
    "version": 3
   },
   "file_extension": ".py",
   "mimetype": "text/x-python",
   "name": "python",
   "nbconvert_exporter": "python",
   "pygments_lexer": "ipython3",
   "version": "3.11.9"
  }
 },
 "nbformat": 4,
 "nbformat_minor": 2
}
