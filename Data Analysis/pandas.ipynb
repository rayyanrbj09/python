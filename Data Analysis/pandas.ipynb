{
 "cells": [
  {
   "cell_type": "code",
   "execution_count": 1,
   "metadata": {},
   "outputs": [
    {
     "name": "stdout",
     "output_type": "stream",
     "text": [
      "0    10\n",
      "1    20\n",
      "2    30\n",
      "3    40\n",
      "4    50\n",
      "dtype: int64\n"
     ]
    }
   ],
   "source": [
    "import pandas as pd \n",
    "\n",
    "# Series with default index\n",
    "data = [10, 20, 30, 40, 50]\n",
    "series = pd.Series(data)\n",
    "print(series)"
   ]
  },
  {
   "cell_type": "code",
   "execution_count": 3,
   "metadata": {},
   "outputs": [
    {
     "name": "stdout",
     "output_type": "stream",
     "text": [
      "101    a\n",
      "102    b\n",
      "103    c\n",
      "104    d\n",
      "105    e\n",
      "dtype: object\n"
     ]
    }
   ],
   "source": [
    "# Series with custom index\n",
    "series = pd.Series(['a', 'b', 'c', 'd', 'e'], index=[101, 102, 103, 104, 105])\n",
    "print(series)"
   ]
  },
  {
   "cell_type": "code",
   "execution_count": null,
   "metadata": {},
   "outputs": [
    {
     "name": "stdout",
     "output_type": "stream",
     "text": [
      "                Name  Age       City     Interest\n",
      "0  Rayyan Bin Jaweed   21    Karachi  Programming\n",
      "1   Syed Akber Ahmed   22     Lahore      Cricket\n",
      "2       Muhammad Ali   23  Islamabad     Football\n",
      "3     Muhammad Usman   24     Quetta       Hockey\n",
      "4     Muhammad Uzair   25   Peshawar   Basketball\n"
     ]
    }
   ],
   "source": [
    "# Creating a dataframe from a dictionary\n",
    "dict = {\n",
    "    'Name': ['Rayyan Bin Jaweed', 'Syed Akber Ahmed', 'Muhammad Ali', 'Muhammad Usman', 'Muhammad Uzair'], # List of names, ROWS of the dataframe\n",
    "    'Age': [21, 22, 23, 24, 25],\n",
    "    'City': ['Karachi', 'Lahore', 'Islamabad', 'Quetta', 'Peshawar'],\n",
    "    'Interest': ['Programming', 'Cricket', 'Football', 'Hockey', 'Basketball']\n",
    "}\n",
    "df = pd.DataFrame(dict)\n",
    "print(df)"
   ]
  },
  {
   "cell_type": "code",
   "execution_count": 7,
   "metadata": {},
   "outputs": [
    {
     "name": "stdout",
     "output_type": "stream",
     "text": [
      "      Name  Age  Salary\n",
      "0    Alice   25   50000\n",
      "1      Bob   30   60000\n",
      "2  Charlie   35   70000\n"
     ]
    }
   ],
   "source": [
    "# Lists create specific columns\n",
    "df2 = pd.DataFrame([\n",
    "    ['Alice', 25, 50000],\n",
    "    ['Bob', 30, 60000],\n",
    "    ['Charlie', 35, 70000]\n",
    "], columns=['Name', 'Age', 'Salary'])\n",
    "\n",
    "print(df2)\n"
   ]
  },
  {
   "cell_type": "code",
   "execution_count": null,
   "metadata": {},
   "outputs": [
    {
     "name": "stdout",
     "output_type": "stream",
     "text": [
      "                Name  Age       City     Interest\n",
      "0  Rayyan Bin Jaweed   21    Karachi  Programming\n",
      "1   Syed Akber Ahmed   22     Lahore      Cricket\n",
      "2       Muhammad Ali   23  Islamabad     Football\n",
      "             Name  Age      City    Interest\n",
      "3  Muhammad Usman   24    Quetta      Hockey\n",
      "4  Muhammad Uzair   25  Peshawar  Basketball\n"
     ]
    }
   ],
   "source": [
    "print(df.head(3))   # First 3 rows\n",
    "print(df.tail(2))   # Last 2 rows\n",
    "# Note that if no input is given to head() or tail(), it will return 5 rows by default"
   ]
  },
  {
   "cell_type": "code",
   "execution_count": 12,
   "metadata": {},
   "outputs": [
    {
     "name": "stdout",
     "output_type": "stream",
     "text": [
      "(5, 4)\n",
      "<class 'pandas.core.frame.DataFrame'>\n",
      "RangeIndex: 5 entries, 0 to 4\n",
      "Data columns (total 4 columns):\n",
      " #   Column    Non-Null Count  Dtype \n",
      "---  ------    --------------  ----- \n",
      " 0   Name      5 non-null      object\n",
      " 1   Age       5 non-null      int64 \n",
      " 2   City      5 non-null      object\n",
      " 3   Interest  5 non-null      object\n",
      "dtypes: int64(1), object(3)\n",
      "memory usage: 292.0+ bytes\n",
      "None\n"
     ]
    }
   ],
   "source": [
    "print(df.shape) # Returns the number of rows and columns in the dataframe\n",
    "print(df.info()) # Returns the information about the dataframe"
   ]
  },
  {
   "cell_type": "code",
   "execution_count": 13,
   "metadata": {},
   "outputs": [
    {
     "name": "stdout",
     "output_type": "stream",
     "text": [
      "             Age\n",
      "count   5.000000\n",
      "mean   23.000000\n",
      "std     1.581139\n",
      "min    21.000000\n",
      "25%    22.000000\n",
      "50%    23.000000\n",
      "75%    24.000000\n",
      "max    25.000000\n"
     ]
    }
   ],
   "source": [
    "print(df.describe()) # Returns the statistical information about the dataframe"
   ]
  },
  {
   "cell_type": "code",
   "execution_count": 16,
   "metadata": {},
   "outputs": [
    {
     "data": {
      "text/html": [
       "<div>\n",
       "<style scoped>\n",
       "    .dataframe tbody tr th:only-of-type {\n",
       "        vertical-align: middle;\n",
       "    }\n",
       "\n",
       "    .dataframe tbody tr th {\n",
       "        vertical-align: top;\n",
       "    }\n",
       "\n",
       "    .dataframe thead th {\n",
       "        text-align: right;\n",
       "    }\n",
       "</style>\n",
       "<table border=\"1\" class=\"dataframe\">\n",
       "  <thead>\n",
       "    <tr style=\"text-align: right;\">\n",
       "      <th></th>\n",
       "      <th>Full Name</th>\n",
       "      <th>Age</th>\n",
       "      <th>City</th>\n",
       "      <th>Interest</th>\n",
       "    </tr>\n",
       "  </thead>\n",
       "  <tbody>\n",
       "    <tr>\n",
       "      <th>0</th>\n",
       "      <td>Rayyan Bin Jaweed</td>\n",
       "      <td>21</td>\n",
       "      <td>Karachi</td>\n",
       "      <td>Programming</td>\n",
       "    </tr>\n",
       "    <tr>\n",
       "      <th>1</th>\n",
       "      <td>Syed Akber Ahmed</td>\n",
       "      <td>22</td>\n",
       "      <td>Lahore</td>\n",
       "      <td>Cricket</td>\n",
       "    </tr>\n",
       "    <tr>\n",
       "      <th>2</th>\n",
       "      <td>Muhammad Ali</td>\n",
       "      <td>23</td>\n",
       "      <td>Islamabad</td>\n",
       "      <td>Football</td>\n",
       "    </tr>\n",
       "    <tr>\n",
       "      <th>3</th>\n",
       "      <td>Muhammad Usman</td>\n",
       "      <td>24</td>\n",
       "      <td>Quetta</td>\n",
       "      <td>Hockey</td>\n",
       "    </tr>\n",
       "    <tr>\n",
       "      <th>4</th>\n",
       "      <td>Muhammad Uzair</td>\n",
       "      <td>25</td>\n",
       "      <td>Peshawar</td>\n",
       "      <td>Basketball</td>\n",
       "    </tr>\n",
       "  </tbody>\n",
       "</table>\n",
       "</div>"
      ],
      "text/plain": [
       "           Full Name  Age       City     Interest\n",
       "0  Rayyan Bin Jaweed   21    Karachi  Programming\n",
       "1   Syed Akber Ahmed   22     Lahore      Cricket\n",
       "2       Muhammad Ali   23  Islamabad     Football\n",
       "3     Muhammad Usman   24     Quetta       Hockey\n",
       "4     Muhammad Uzair   25   Peshawar   Basketball"
      ]
     },
     "execution_count": 16,
     "metadata": {},
     "output_type": "execute_result"
    }
   ],
   "source": [
    "df.rename(columns={'Name': 'Full Name'}, inplace=True) # Renaming the column 'Name' to 'Full Name'\n",
    "df"
   ]
  }
 ],
 "metadata": {
  "kernelspec": {
   "display_name": "Python 3",
   "language": "python",
   "name": "python3"
  },
  "language_info": {
   "codemirror_mode": {
    "name": "ipython",
    "version": 3
   },
   "file_extension": ".py",
   "mimetype": "text/x-python",
   "name": "python",
   "nbconvert_exporter": "python",
   "pygments_lexer": "ipython3",
   "version": "3.11.9"
  }
 },
 "nbformat": 4,
 "nbformat_minor": 2
}
