{
 "cells": [
  {
   "cell_type": "code",
   "execution_count": 1,
   "metadata": {},
   "outputs": [],
   "source": [
    "import pandas as pd\n",
    "import matplotlib.pyplot as plt\n",
    "import numpy as np\n",
    "import seaborn as sns\n",
    "\n",
    "brain_tumor = pd.read_csv(\"synthetic_tumor_data.csv\")\n",
    "df2 = pd.DataFrame(brain_tumor)"
   ]
  },
  {
   "cell_type": "markdown",
   "metadata": {},
   "source": [
    "print(df2.head(5))"
   ]
  },
  {
   "cell_type": "code",
   "execution_count": null,
   "metadata": {},
   "outputs": [
    {
     "name": "stdout",
     "output_type": "stream",
     "text": [
      "<class 'pandas.core.frame.DataFrame'>\n",
      "RangeIndex: 700 entries, 0 to 699\n",
      "Data columns (total 14 columns):\n",
      " #   Column               Non-Null Count  Dtype  \n",
      "---  ------               --------------  -----  \n",
      " 0   Patient_ID           700 non-null    int64  \n",
      " 1   Age                  700 non-null    int64  \n",
      " 2   Gender               700 non-null    object \n",
      " 3   Tumor_Type           700 non-null    object \n",
      " 4   Tumor_Size           700 non-null    float64\n",
      " 5   Location             700 non-null    object \n",
      " 6   Stage                700 non-null    object \n",
      " 7   Radiation_Treatment  700 non-null    object \n",
      " 8   Surgery_Performed    700 non-null    object \n",
      " 9   Chemotherapy         700 non-null    object \n",
      " 10  Survival_Rate        700 non-null    float64\n",
      " 11  Tumor_Growth_Rate    700 non-null    float64\n",
      " 12  Family_History       700 non-null    object \n",
      " 13  Follow_Up_Required   700 non-null    object \n",
      "dtypes: float64(3), int64(2), object(9)\n",
      "memory usage: 76.7+ KB\n",
      "None\n"
     ]
    },
    {
     "data": {
      "text/plain": [
       "Patient_ID             700\n",
       "Age                    700\n",
       "Gender                 700\n",
       "Tumor_Type             700\n",
       "Tumor_Size             700\n",
       "Location               700\n",
       "Stage                  700\n",
       "Radiation_Treatment    700\n",
       "Surgery_Performed      700\n",
       "Chemotherapy           700\n",
       "Survival_Rate          700\n",
       "Tumor_Growth_Rate      700\n",
       "Family_History         700\n",
       "Follow_Up_Required     700\n",
       "dtype: int64"
      ]
     },
     "execution_count": 31,
     "metadata": {},
     "output_type": "execute_result"
    }
   ],
   "source": [
    "print(df2.info())"
   ]
  },
  {
   "cell_type": "code",
   "execution_count": 27,
   "metadata": {},
   "outputs": [
    {
     "data": {
      "text/plain": [
       "Patient_ID             False\n",
       "Age                    False\n",
       "Gender                 False\n",
       "Tumor_Type             False\n",
       "Tumor_Size             False\n",
       "Location               False\n",
       "Stage                  False\n",
       "Radiation_Treatment    False\n",
       "Surgery_Performed      False\n",
       "Chemotherapy           False\n",
       "Survival_Rate          False\n",
       "Tumor_Growth_Rate      False\n",
       "Family_History         False\n",
       "Follow_Up_Required     False\n",
       "dtype: bool"
      ]
     },
     "execution_count": 27,
     "metadata": {},
     "output_type": "execute_result"
    }
   ],
   "source": [
    "df2.isnull().any()  #check for missing values"
   ]
  },
  {
   "cell_type": "code",
   "execution_count": 30,
   "metadata": {},
   "outputs": [
    {
     "data": {
      "text/plain": [
       "Patient_ID             0\n",
       "Age                    0\n",
       "Gender                 0\n",
       "Tumor_Type             0\n",
       "Tumor_Size             0\n",
       "Location               0\n",
       "Stage                  0\n",
       "Radiation_Treatment    0\n",
       "Surgery_Performed      0\n",
       "Chemotherapy           0\n",
       "Survival_Rate          0\n",
       "Tumor_Growth_Rate      0\n",
       "Family_History         0\n",
       "Follow_Up_Required     0\n",
       "dtype: int64"
      ]
     },
     "execution_count": 30,
     "metadata": {},
     "output_type": "execute_result"
    }
   ],
   "source": [
    "df2.isnull().sum() #sum of missing values"
   ]
  }
 ],
 "metadata": {
  "kernelspec": {
   "display_name": "Python 3",
   "language": "python",
   "name": "python3"
  },
  "language_info": {
   "codemirror_mode": {
    "name": "ipython",
    "version": 3
   },
   "file_extension": ".py",
   "mimetype": "text/x-python",
   "name": "python",
   "nbconvert_exporter": "python",
   "pygments_lexer": "ipython3",
   "version": "3.11.9"
  }
 },
 "nbformat": 4,
 "nbformat_minor": 4
}
