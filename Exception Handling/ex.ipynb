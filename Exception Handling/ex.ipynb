{
 "cells": [
  {
   "cell_type": "markdown",
   "metadata": {},
   "source": [
    "BASIC LEVEL"
   ]
  },
  {
   "cell_type": "markdown",
   "metadata": {},
   "source": [
    "1. Program to handle division zero error"
   ]
  },
  {
   "cell_type": "code",
   "execution_count": 17,
   "metadata": {},
   "outputs": [
    {
     "name": "stdout",
     "output_type": "stream",
     "text": [
      "1.0\n",
      "Division was successful\n"
     ]
    }
   ],
   "source": [
    "try :\n",
    "    num = int(input(\"Enter a number: \"))\n",
    "    value = 10 /num\n",
    "    print(value)\n",
    "except ZeroDivisionError as ex:\n",
    "    print('Mathematical Error: Division by zero is not allowed')\n",
    "else:\n",
    "    print('Division was successful')"
   ]
  },
  {
   "cell_type": "markdown",
   "metadata": {},
   "source": [
    "2. Program that takes user input and handles ValueError if a non-integer is entered"
   ]
  },
  {
   "cell_type": "code",
   "execution_count": 16,
   "metadata": {},
   "outputs": [
    {
     "name": "stdout",
     "output_type": "stream",
     "text": [
      "1.1111111111111112\n",
      "No exception was raised\n"
     ]
    }
   ],
   "source": [
    "# Intger value cant be positive or negative\n",
    "try :\n",
    "    num = int(input(\"Enter a interger value: \"))\n",
    "    value = 10 / num\n",
    "    print(value)\n",
    "except ValueError as ex:\n",
    "    print('Invalid Input: Please enter a valid integer value')\n",
    "except ZeroDivisionError as ex:\n",
    "    print('Mathematical Error: Division by zero is not allowed')\n",
    "else:  # else block is executed when no exception is raised\n",
    "    print('No exception was raised')"
   ]
  },
  {
   "cell_type": "markdown",
   "metadata": {},
   "source": [
    "3. Program that reads a file and handles FileNotFoundError if the file does not exist"
   ]
  },
  {
   "cell_type": "code",
   "execution_count": 27,
   "metadata": {},
   "outputs": [
    {
     "name": "stdout",
     "output_type": "stream",
     "text": [
      "File not found\n",
      "Execution completed\n"
     ]
    }
   ],
   "source": [
    "try :\n",
    "    with open('file.txt', 'r') as file: #if file is found then it will read the file\n",
    "        content = file.read()\n",
    "        print(content)\n",
    "except FileNotFoundError as ex: \n",
    "    print('File not found')\n",
    "else:\n",
    "    print('File read successfully')\n",
    "finally: # finally block is executed no matter what it arises error or not\n",
    "    print('Execution completed')"
   ]
  },
  {
   "cell_type": "markdown",
   "metadata": {},
   "source": [
    "ADVANCED LEVEL"
   ]
  },
  {
   "cell_type": "markdown",
   "metadata": {},
   "source": [
    "4. Write a function that handles multiple exceptions (ZeroDivisionError, ValueError, and TypeError)."
   ]
  },
  {
   "cell_type": "code",
   "execution_count": 33,
   "metadata": {},
   "outputs": [
    {
     "name": "stdout",
     "output_type": "stream",
     "text": [
      "Invalid Input: Please enter a valid integer value\n"
     ]
    }
   ],
   "source": [
    "def exception():\n",
    "    try:\n",
    "        n =  int(input('Enter a number: '))\n",
    "        result =  100 / n\n",
    "        print(result)\n",
    "    except ZeroDivisionError as zero:\n",
    "        print('Mathematical Error: Division by zero is not allowed')\n",
    "    except ValueError as value:\n",
    "        print('Invalid Input: Please enter a valid integer value')\n",
    "    except TypeError as type:\n",
    "        print('Invalid Input: Please enter a valid integer value')\n",
    "    except Exception as e:\n",
    "        print('Something went wrong')\n",
    "    else:\n",
    "        print('Division was successful')\n",
    "\n",
    "exception()"
   ]
  },
  {
   "cell_type": "markdown",
   "metadata": {},
   "source": [
    "5. Write a function that retries execution a fixed number of times if an exception occurs"
   ]
  },
  {
   "cell_type": "code",
   "execution_count": 45,
   "metadata": {},
   "outputs": [
    {
     "name": "stdout",
     "output_type": "stream",
     "text": [
      "<class 'function'>\n"
     ]
    }
   ],
   "source": [
    "import time\n",
    "\n",
    "def retry(max_retries=3, delay=1):\n",
    "    def decorator(func):\n",
    "        def wrapper(*args, **kwargs):\n",
    "            attempts = 0\n",
    "            while attempts < max_retries:\n",
    "                try:\n",
    "                    return func(*args, **kwargs)\n",
    "                except Exception as e:\n",
    "                    attempts += 1\n",
    "                    print(f\"Error: {e}. Retrying {attempts}/{max_retries}...\")\n",
    "                    time.sleep(delay)\n",
    "            print(\"Max retries reached. Operation failed.\")\n",
    "            return None\n",
    "        return wrapper\n",
    "    return decorator\n",
    "\n",
    "@retry(max_retries=3, delay=2)\n",
    "def unstable_function():\n",
    "    import random\n",
    "    if random.random() < 0.7:  # 70% chance of failure\n",
    "        raise ValueError(\"Random failure!\")\n",
    "    return \"Success!\"\n",
    "\n",
    "print(unstable_function())"
   ]
  },
  {
   "cell_type": "markdown",
   "metadata": {},
   "source": [
    "6. Create a custom exception called InvalidAgeError that validates user age input"
   ]
  },
  {
   "cell_type": "code",
   "execution_count": 38,
   "metadata": {},
   "outputs": [
    {
     "name": "stdout",
     "output_type": "stream",
     "text": [
      "Eligible for voting\n"
     ]
    }
   ],
   "source": [
    "class InvalidAgeError(Exception):\n",
    "    pass\n",
    "\n",
    "def check_age(age):\n",
    "    if age < 18:\n",
    "        raise InvalidAgeError('Age must be greater than 18')\n",
    "    else:\n",
    "        print('Eligible for voting')\n",
    "\n",
    "try:\n",
    "    age = int(input('Enter your age: '))\n",
    "    check_age(age)\n",
    "except InvalidAgeError as e:\n",
    "    print(e)\n",
    "except ValueError as e:\n",
    "    print('Invalid Input: Please enter a valid integer value')     "
   ]
  },
  {
   "cell_type": "markdown",
   "metadata": {},
   "source": [
    "7. Robust Banking System with Custom Exceptions"
   ]
  },
  {
   "cell_type": "code",
   "execution_count": null,
   "metadata": {},
   "outputs": [
    {
     "name": "stdout",
     "output_type": "stream",
     "text": [
      "Deposit of 100 was successful. Current balance is 200\n",
      "Withdrawal of 90 was successful. Current balance is 110\n",
      "Current balance is 110\n"
     ]
    }
   ],
   "source": [
    "class InsufficientFundError(Exception):\n",
    "    \"\"\"Handle Insufficient Fund Error\"\"\"\n",
    "    pass\n",
    "\n",
    "class InvalidTransactionError(Exception):\n",
    "    \"\"\"Handle Invalid Transaction Error\"\"\"\n",
    "    pass\n",
    "\n",
    "class UnauthorizedError(Exception):\n",
    "    \"\"\"Handle Unauthorized Error\"\"\"\n",
    "    pass\n",
    "\n",
    "class Bank:\n",
    "    def __init__(self, balance = 0):\n",
    "        self.balance = balance\n",
    "\n",
    "    def deposit(self, amount):\n",
    "        if amount <= 0:\n",
    "            raise InvalidTransactionError('Invalid Transaction: Deposit amount must be greater than 0')  \n",
    "        self.balance += amount\n",
    "        return f\"Deposit of {amount} was successful. Current balance is {self.balance}\"\n",
    "    \n",
    "    def withdraw(self, amount):\n",
    "        if amount <= 0:\n",
    "            raise InvalidTransactionError('Invalid Transaction: Withdrawal amount must be greater than 0')\n",
    "        if amount > self.balance:\n",
    "            raise InsufficientFundError('Insufficient Fund: Withdrawal amount is greater than available balance')\n",
    "        self.balance -= amount\n",
    "        return f\"Withdrawal of {amount} was successful. Current balance is {self.balance}\"\n",
    "    \n",
    "    def check_balance(self):\n",
    "        return f\"Current balance is {self.balance}\"\n",
    "    \n",
    "try:\n",
    "    bank = Bank(100)\n",
    "    deposit = bank.deposit(100)\n",
    "    withdraw = bank.withdraw(0) # Valid withdrawal\n",
    "except InsufficientFundError as e:\n",
    "    print(e)\n",
    "except InvalidTransactionError as e:\n",
    "    print(e)\n",
    "except UnauthorizedError as e:    \n",
    "    print(e)\n",
    "else:\n",
    "    print(deposit)\n",
    "    print(withdraw)\n",
    "finally:\n",
    "    print(bank.check_balance())"
   ]
  },
  {
   "cell_type": "code",
   "execution_count": null,
   "metadata": {},
   "outputs": [],
   "source": []
  }
 ],
 "metadata": {
  "kernelspec": {
   "display_name": "Python 3",
   "language": "python",
   "name": "python3"
  },
  "language_info": {
   "codemirror_mode": {
    "name": "ipython",
    "version": 3
   },
   "file_extension": ".py",
   "mimetype": "text/x-python",
   "name": "python",
   "nbconvert_exporter": "python",
   "pygments_lexer": "ipython3",
   "version": "3.13.0"
  }
 },
 "nbformat": 4,
 "nbformat_minor": 2
}
