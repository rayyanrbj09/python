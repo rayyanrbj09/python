{
 "cells": [
  {
   "cell_type": "markdown",
   "id": "8fbd333d",
   "metadata": {},
   "source": [
    "An iterator is an object that is used to traverse through all the elemensts of a collection like lists, tuples or dictioaries\n",
    "\n",
    "It involves two methods:\n",
    "1. ` __iter__()`  : Returns the iterator object itself\n",
    "2. ` __next__()`  : Returns the next value of the sequence . Raises StopIteration when sequencce ends."
   ]
  },
  {
   "cell_type": "code",
   "execution_count": 4,
   "id": "43880297",
   "metadata": {},
   "outputs": [
    {
     "name": "stdout",
     "output_type": "stream",
     "text": [
      "R\n",
      "a\n"
     ]
    }
   ],
   "source": [
    "s = \"Rayyan\"\n",
    "it = iter(s)\n",
    "print(next(it))\n",
    "print(next(it))  # Output: R"
   ]
  },
  {
   "cell_type": "code",
   "execution_count": null,
   "id": "7eef7c8c",
   "metadata": {},
   "outputs": [
    {
     "name": "stdout",
     "output_type": "stream",
     "text": [
      "Example\n",
      "Python\n",
      "Iterators\n"
     ]
    }
   ],
   "source": [
    "example_list = [\"Example\", \"Python\", \"Iterators\"]\n",
    "for item in iter(example_list):\n",
    "    print(item)  # Output: Examplr, Python, Iterators"
   ]
  },
  {
   "cell_type": "code",
   "execution_count": null,
   "id": "ac18dfba",
   "metadata": {},
   "outputs": [
    {
     "name": "stdout",
     "output_type": "stream",
     "text": [
      "name\n",
      "age\n",
      "city\n",
      "Rayyan\n",
      "21\n",
      "New York\n"
     ]
    }
   ],
   "source": [
    "example_dict = {\n",
    "    \"name\": \"Rayyan\", \n",
    "    \"age\": 21, \n",
    "    \"city\": \"New York\"\n",
    "    }\n",
    "for key in iter(example_dict):\n",
    "    print(key)  # Output: name, age, city\n",
    "for value in iter(example_dict.values()):\n",
    "    print(value)  # Output: Rayyan, 25, New York"
   ]
  },
  {
   "cell_type": "code",
   "execution_count": null,
   "id": "cffd8017",
   "metadata": {},
   "outputs": [],
   "source": [
    "class EvenNumbers:\n",
    "    def __iter__(self):\n",
    "        \"\"\"Initialize the iterator.\"\"\"\n",
    "        self.num = 2\n",
    "        return self\n",
    "    \n",
    "    def __next__(self):\n",
    "        x = self.num\n",
    "        self.num += 2\n",
    "        return x\n",
    "    \n",
    "even_numbers = EvenNumbers()\n",
    "it = iter(even_numbers)"
   ]
  },
  {
   "cell_type": "code",
   "execution_count": 19,
   "id": "cfb80854",
   "metadata": {},
   "outputs": [
    {
     "name": "stdout",
     "output_type": "stream",
     "text": [
      "2\n",
      "4\n"
     ]
    }
   ],
   "source": [
    "print(next(it))  # Output: 2\n",
    "print(next(it))  # Output: 4"
   ]
  },
  {
   "cell_type": "code",
   "execution_count": null,
   "id": "b3ee9cb2",
   "metadata": {},
   "outputs": [
    {
     "name": "stdout",
     "output_type": "stream",
     "text": [
      "1\n",
      "2\n",
      "3\n",
      "4\n",
      "5\n",
      "End of iteration\n"
     ]
    }
   ],
   "source": [
    "list1 = [1, 2, 3, 4, 5]\n",
    "it1 = iter(list1)\n",
    "while True:\n",
    "    try:\n",
    "        print(next(it1))  # Output: 1, 2, 3, 4, 5\n",
    "    except StopIteration:  # This exception is raised when the iterator is exhausted\n",
    "        print(\"End of iteration\")\n",
    "        break"
   ]
  },
  {
   "cell_type": "code",
   "execution_count": null,
   "id": "f4a88ecb",
   "metadata": {},
   "outputs": [],
   "source": []
  },
  {
   "cell_type": "code",
   "execution_count": null,
   "id": "2b3f45a3",
   "metadata": {},
   "outputs": [],
   "source": []
  },
  {
   "cell_type": "code",
   "execution_count": null,
   "id": "281f9426",
   "metadata": {},
   "outputs": [],
   "source": []
  }
 ],
 "metadata": {
  "kernelspec": {
   "display_name": "Python 3",
   "language": "python",
   "name": "python3"
  },
  "language_info": {
   "codemirror_mode": {
    "name": "ipython",
    "version": 3
   },
   "file_extension": ".py",
   "mimetype": "text/x-python",
   "name": "python",
   "nbconvert_exporter": "python",
   "pygments_lexer": "ipython3",
   "version": "3.13.0"
  }
 },
 "nbformat": 4,
 "nbformat_minor": 5
}
