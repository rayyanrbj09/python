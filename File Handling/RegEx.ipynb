{
 "cells": [
  {
   "cell_type": "markdown",
   "id": "d5d3c903",
   "metadata": {},
   "source": [
    "Python RegEx: \n",
    "\n",
    "1. A Regular Expression or RegEx is a special sequence of characters that uses a search pattern to find a string or set of strings.\n",
    "\n",
    "2. It can detect the presence or absence of a text by matching it with a particular pattern and also can split a pattern into one or more sub-patterns."
   ]
  },
  {
   "cell_type": "code",
   "execution_count": null,
   "id": "349089cd",
   "metadata": {},
   "outputs": [
    {
     "name": "stdout",
     "output_type": "stream",
     "text": [
      "Found the word 'sample' at index: 10 to 16\n"
     ]
    }
   ],
   "source": [
    "# regular expression to find all numbers in a string\n",
    "# spaces are not ignored\n",
    "import re\n",
    "s = 'This is a sample string with some numbers: 123, 456, and 789.'\n",
    "\n",
    "match = re.search(r'sample', s)  # search for the word 'sample'\n",
    "\n",
    "if match:\n",
    "    print(\"Found the word 'sample' at index:\", match.start(), \"to\", match.end())\n",
    "else:\n",
    "    raise ValueError(\"The word 'sample' was not found in the string.\")"
   ]
  },
  {
   "cell_type": "markdown",
   "id": "fedabf40",
   "metadata": {},
   "source": [
    "RegEx Functions"
   ]
  },
  {
   "cell_type": "markdown",
   "id": "4009b6d0",
   "metadata": {},
   "source": [
    "| Function      | Description                                  |\n",
    "|---------------|----------------------------------------------|\n",
    "| re.findall()  | Returns all the matching occurrences in a list|\n",
    "| re.compile()  | REs are compiled into pattern objects         |\n",
    "| re.split()    | Splits the string                            |\n",
    "| re.sub()      | Used for replacing all the occurrences        |\n",
    "| re.subn()     | Similar to re.sub() but returns a tuple       |\n",
    "| re.escape()   | Escapes the special characters                |\n",
    "| re.search()   | Searches for the first occurrence             |"
   ]
  },
  {
   "cell_type": "markdown",
   "id": "44703bb3",
   "metadata": {},
   "source": [
    "1. re.findall()"
   ]
  },
  {
   "cell_type": "code",
   "execution_count": 24,
   "id": "1fcbef07",
   "metadata": {},
   "outputs": [
    {
     "name": "stdout",
     "output_type": "stream",
     "text": [
      "Found numbers: ['1', '1234567890', '2', '0987654321']\n",
      "Found 10-digit numbers: ['12345', '67890', '09876', '54321']\n"
     ]
    },
    {
     "name": "stderr",
     "output_type": "stream",
     "text": [
      "<>:1: SyntaxWarning: invalid escape sequence '\\d'\n",
      "<>:1: SyntaxWarning: invalid escape sequence '\\d'\n",
      "C:\\Users\\Rayyan\\AppData\\Local\\Temp\\ipykernel_14800\\2045364352.py:1: SyntaxWarning: invalid escape sequence '\\d'\n",
      "  \"\"\"\n"
     ]
    }
   ],
   "source": [
    "\"\"\"\n",
    "It scans the string from left to right and finds all occurrences of the pattern.\n",
    "- `regex = r'\\d+'` matches one or more digits in the string.\n",
    "- `regex1 = r'\\d{5}'` matches exactly 5 consecutive digits in the string.\n",
    "- `re.findall(regex, string)` returns all matches for the first pattern.\n",
    "- `re.findall(regex1, string)` returns all matches for the second pattern.\n",
    "\"\"\"\n",
    "\n",
    "string = \"This is the consumer's @ 1 mobie number: 1234567890 and consumer's 2 mobile number: 0987654321.\"\n",
    "regex = r'\\d+'  \n",
    "regex1 = r'\\d{5}'  \n",
    "\n",
    "match = re.findall(regex, string)  \n",
    "match1 = re.findall(regex1, string)  \n",
    "if match:\n",
    "    print(\"Found numbers:\", match)\n",
    "if match1:\n",
    "    print(\"Found 10-digit numbers:\", match1)"
   ]
  },
  {
   "cell_type": "markdown",
   "id": "437e8586",
   "metadata": {},
   "source": [
    "1. \\w - matches a single word character\n",
    "2. \\w+ - matches a group of word characters\n",
    "3. \\W - matches non-word character might includ white spaecs, alphanumeric symbols "
   ]
  },
  {
   "cell_type": "code",
   "execution_count": 25,
   "id": "4ec07662",
   "metadata": {},
   "outputs": [
    {
     "name": "stdout",
     "output_type": "stream",
     "text": [
      "['h', 'i', 's', 'i', 's', 't', 'h', 'e', 'c', 'o', 'n', 's', 'u', 'm', 'e', 'r', 's', 'm', 'o', 'b', 'i', 'e', 'n', 'u', 'm', 'b', 'e', 'r', 'a', 'n', 'd', 'c', 'o', 'n', 's', 'u', 'm', 'e', 'r', 's', 'm', 'o', 'b', 'i', 'l', 'e', 'n', 'u', 'm', 'b', 'e', 'r']\n",
      "['T', '@']\n"
     ]
    }
   ],
   "source": [
    "p = re.compile('[a-z]') # Compiles the regular expression into a pattern object\n",
    "print(p.findall(string))\n",
    "p = re.compile('[A-Z,@#$%^&*()]')\n",
    "print(p.findall(string))# Compiles the regular expression for 5 consecutive digits"
   ]
  },
  {
   "cell_type": "code",
   "execution_count": null,
   "id": "2f646a34",
   "metadata": {},
   "outputs": [],
   "source": []
  }
 ],
 "metadata": {
  "kernelspec": {
   "display_name": "Python 3",
   "language": "python",
   "name": "python3"
  },
  "language_info": {
   "codemirror_mode": {
    "name": "ipython",
    "version": 3
   },
   "file_extension": ".py",
   "mimetype": "text/x-python",
   "name": "python",
   "nbconvert_exporter": "python",
   "pygments_lexer": "ipython3",
   "version": "3.13.0"
  }
 },
 "nbformat": 4,
 "nbformat_minor": 5
}
