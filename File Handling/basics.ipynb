{
 "cells": [
  {
   "cell_type": "markdown",
   "metadata": {},
   "source": [
    "File Handling\n"
   ]
  },
  {
   "cell_type": "markdown",
   "metadata": {},
   "source": [
    "\n",
    "File Handling in Python\n",
    "File handling is a crucial concept in programming that allows us to read, write, and manipulate files stored on a computer. Python provides built-in functions to perform operations on files efficiently."
   ]
  },
  {
   "cell_type": "markdown",
   "metadata": {},
   "source": [
    "Basic syntax \n",
    "   1. file =  open('fiepath, 'mode')\n",
    "    "
   ]
  },
  {
   "cell_type": "markdown",
   "metadata": {},
   "source": [
    "Using with automatically closes the file after execution, preventing memory leaks"
   ]
  },
  {
   "cell_type": "code",
   "execution_count": 1,
   "metadata": {},
   "outputs": [
    {
     "name": "stdout",
     "output_type": "stream",
     "text": [
      "New update of the file will be guranateede lazy dog.  \n",
      "Line 2: 1234567890 - Numbers are fun to work with.  \n",
      "Line 3: File handling is an essential skill in programming.  \n",
      "Line 4: Learning to read and write files helps automate tasks.  \n",
      "Line 5: Python, C++, and Java all support file handling.  \n",
      "Line 6: Opening, reading, writing, and closing files are common operations.  \n",
      "Line 7: Error handling is crucial when working with files.  \n",
      "sLine 8: End of file reached. Goodbye!\n",
      "New text\n"
     ]
    }
   ],
   "source": [
    "with open('random.txt', 'r') as r:\n",
    "    content =  r.read()\n",
    "    print(content)"
   ]
  },
  {
   "cell_type": "markdown",
   "metadata": {},
   "source": [
    "Types of modes\n",
    "\n",
    "    1. \"r\"\tRead mode (default). Opens the file for reading.\n",
    "    2. \"w\"\tWrite mode. Creates a new file if not exists, overwrites if exists.\n",
    "    3. \"a\"\tAppend mode. Adds data to the end of the file without overwriting.\n",
    "    4. \"x\"\tExclusive creation mode. Fails if the file already exists.\n",
    "    5. \"b\"\tBinary mode. Used with r, w, a, x (e.g., \"rb\", \"wb\", etc.).\n",
    "    6. \"t\"\tText mode (default)."
   ]
  },
  {
   "cell_type": "markdown",
   "metadata": {},
   "source": [
    "Reading  lines"
   ]
  },
  {
   "cell_type": "code",
   "execution_count": 2,
   "metadata": {},
   "outputs": [
    {
     "name": "stdout",
     "output_type": "stream",
     "text": [
      "['New update of the file will be guranateede lazy dog.  \\n', 'Line 2: 1234567890 - Numbers are fun to work with.  \\n', 'Line 3: File handling is an essential skill in programming.  \\n', 'Line 4: Learning to read and write files helps automate tasks.  \\n', 'Line 5: Python, C++, and Java all support file handling.  \\n', 'Line 6: Opening, reading, writing, and closing files are common operations.  \\n', 'Line 7: Error handling is crucial when working with files.  \\n', 'sLine 8: End of file reached. Goodbye!\\n', 'New text']\n"
     ]
    }
   ],
   "source": [
    "with open('random.txt','r') as r:\n",
    "    content = r.readlines()\n",
    "    print(content)"
   ]
  },
  {
   "cell_type": "code",
   "execution_count": 3,
   "metadata": {},
   "outputs": [
    {
     "name": "stdout",
     "output_type": "stream",
     "text": [
      "['New update of the file will be guranateede lazy dog.  \\n', 'Line 2: 1234567890 - Numbers are fun to work with.  \\n', 'Line 3: File handling is an essential skill in programming.  \\n', 'Line 4: Learning to read and write files helps automate tasks.  \\n', 'Line 5: Python, C++, and Java all support file handling.  \\n', 'Line 6: Opening, reading, writing, and closing files are common operations.  \\n', 'Line 7: Error handling is crucial when working with files.  \\n', 'sLine 8: End of file reached. Goodbye!\\n', 'New text']\n",
      "Line 3: File handling is an essential skill in programming.  \n",
      "\n"
     ]
    }
   ],
   "source": [
    "with open('random.txt','r') as r:\n",
    "    line = r.readlines()\n",
    "    print(line)\n",
    "    # Read the specific line, for example, the third line (index 2)\n",
    "    specific_line = line[2]\n",
    "    print(specific_line)"
   ]
  },
  {
   "cell_type": "code",
   "execution_count": 4,
   "metadata": {},
   "outputs": [],
   "source": [
    "with open('random.txt','w') as w:\n",
    "    w.write(\"New twxt\")\n",
    "    # Over writes the content of the file. if the file does not exist, it creates a new file"
   ]
  },
  {
   "cell_type": "code",
   "execution_count": 10,
   "metadata": {},
   "outputs": [],
   "source": [
    "# Append to the file\n",
    "with open('random.txt','a') as a:\n",
    "    a.write(\"New text\")\n",
    "    # Appends the content to the file. If the file does not exist, it creates a new file"
   ]
  },
  {
   "cell_type": "code",
   "execution_count": 6,
   "metadata": {},
   "outputs": [
    {
     "name": "stdout",
     "output_type": "stream",
     "text": [
      "b'\\x89PNG\\r\\n\\x1a\\n\\x00\\x00\\x00\\rIHDR\\x00\\x00\\x00\\x01\\x00\\x00\\x00\\x01\\x08\\x02\\x00\\x00\\x00\\x90wS\\xde\\x00\\x00\\x00\\nIDATx\\xdac\\xf8\\x0f\\x00\\x01\\x01\\x01\\x00\\x18\\xdd\\x03\\x1d\\x00\\x00\\x00\\x00IEND\\xaeB`\\x82'\n",
      "b'\\x89PNG\\r\\n\\x1a\\n\\x00\\x00\\x00\\rIHDR\\x00\\x00\\x00\\x01\\x00\\x00\\x00\\x01\\x08\\x02\\x00\\x00\\x00\\x90wS\\xde\\x00\\x00\\x00\\nIDATx\\xdac\\xf8\\x0f\\x00\\x01\\x01\\x01'\n"
     ]
    }
   ],
   "source": [
    "with open('randomimage.jpeg','rb') as ri:\n",
    "    content = ri.read()\n",
    "    print(content)\n",
    "    # Reads the content of the file in binary mode\n",
    "    # Prints the first 50 bytes of the file\n",
    "    print(content[:50])"
   ]
  },
  {
   "cell_type": "code",
   "execution_count": 7,
   "metadata": {},
   "outputs": [],
   "source": [
    "file_content = b'Using with automatically closes the file after execution, preventing memory leaks'\n",
    "with open('byte.txt', 'wb') as file:\n",
    "    file.write(file_content)\n",
    "    # Writes the content of the file to a new file  "
   ]
  },
  {
   "cell_type": "markdown",
   "metadata": {},
   "source": [
    "Checking if a file exists"
   ]
  },
  {
   "cell_type": "code",
   "execution_count": 8,
   "metadata": {},
   "outputs": [
    {
     "name": "stdout",
     "output_type": "stream",
     "text": [
      "The file exists\n"
     ]
    }
   ],
   "source": [
    "import os\n",
    "\n",
    "if os.path.exists('random.txt'):\n",
    "    print(\"The file exists\")\n",
    "else:\n",
    "    print(\"The file does not exist\")"
   ]
  },
  {
   "cell_type": "markdown",
   "metadata": {},
   "source": [
    "CSV files\n"
   ]
  },
  {
   "cell_type": "code",
   "execution_count": 52,
   "metadata": {},
   "outputs": [
    {
     "name": "stdout",
     "output_type": "stream",
     "text": [
      "['Name', 'Age', 'Occupation']\n",
      "['John Doe', '28', 'Software Engineer']\n",
      "['Jane Smith', '34', 'Data Scientist']\n",
      "['Emily Johnson', '22', 'Graphic Designer']\n",
      "['Michael Brown', '45', 'Project Manager']\n"
     ]
    }
   ],
   "source": [
    "import csv\n",
    "\n",
    "with open('new.csv','r') as r:\n",
    "    csv_reader = csv.reader(r)\n",
    "    for line in csv_reader:\n",
    "        print(line)"
   ]
  },
  {
   "cell_type": "code",
   "execution_count": 3,
   "metadata": {},
   "outputs": [],
   "source": [
    "import csv\n",
    "\n",
    "data = [\n",
    "    ['Name', 'Age', 'occupation'],\n",
    "    ['John', '25', 'Developer'],\n",
    "    ['Doe', '30', 'Designer'],\n",
    "    ['Jane', '35', 'Engineer']\n",
    "]\n",
    "\n",
    "with open('new.csv','a') as w:\n",
    "    csv_writer = csv.writer(w)\n",
    "    csv_writer.writerows(data)"
   ]
  },
  {
   "cell_type": "code",
   "execution_count": 4,
   "metadata": {},
   "outputs": [
    {
     "name": "stdout",
     "output_type": "stream",
     "text": [
      "{'Name': 'John Doe', 'Age': '28', 'Occupation': 'Software Engineer'}\n",
      "{'Name': 'Jane Smith', 'Age': '34', 'Occupation': 'Data Scientist'}\n",
      "{'Name': 'Emily Johnson', 'Age': '22', 'Occupation': 'Graphic Designer'}\n",
      "{'Name': 'Michael Brown', 'Age': '45', 'Occupation': 'Project ManagerName', None: ['Age', 'occupation']}\n",
      "{'Name': 'John', 'Age': '25', 'Occupation': 'Developer'}\n",
      "{'Name': 'Doe', 'Age': '30', 'Occupation': 'Designer'}\n",
      "{'Name': 'Jane', 'Age': '35', 'Occupation': 'Engineer'}\n",
      "{'Name': 'Name', 'Age': 'Age', 'Occupation': 'occupation'}\n",
      "{'Name': 'John', 'Age': '25', 'Occupation': 'Developer'}\n",
      "{'Name': 'Doe', 'Age': '30', 'Occupation': 'Designer'}\n",
      "{'Name': 'Jane', 'Age': '35', 'Occupation': 'Engineer'}\n"
     ]
    }
   ],
   "source": [
    "with open('new.csv','r') as r:\n",
    "    csv_reader = csv.DictReader(r)\n",
    "    for line in csv_reader:\n",
    "        print(line) "
   ]
  },
  {
   "cell_type": "code",
   "execution_count": null,
   "metadata": {},
   "outputs": [],
   "source": []
  }
 ],
 "metadata": {
  "kernelspec": {
   "display_name": "Python 3",
   "language": "python",
   "name": "python3"
  },
  "language_info": {
   "codemirror_mode": {
    "name": "ipython",
    "version": 3
   },
   "file_extension": ".py",
   "mimetype": "text/x-python",
   "name": "python",
   "nbconvert_exporter": "python",
   "pygments_lexer": "ipython3",
   "version": "3.13.0"
  }
 },
 "nbformat": 4,
 "nbformat_minor": 2
}
