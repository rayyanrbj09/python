{
 "cells": [
  {
   "cell_type": "markdown",
   "metadata": {},
   "source": [
    "1. Temperature Conversion\n"
   ]
  },
  {
   "cell_type": "code",
   "execution_count": null,
   "metadata": {},
   "outputs": [
    {
     "data": {
      "text/plain": [
       "'37.0, '"
      ]
     },
     "execution_count": 16,
     "metadata": {},
     "output_type": "execute_result"
    }
   ],
   "source": [
    "# Using Predefined formulas\n",
    "def temperature(temp = float(input()), unit = str(input())):\n",
    "    if unit == 'C':\n",
    "        return f\"{(temp*9/5)+32}°F\"\n",
    "    elif unit == 'F':\n",
    "        return f\"{(temp-32)*5/9}°C\"\n",
    "    return f\"{temp}, {unit}\"\n",
    "\n",
    "temperature()"
   ]
  },
  {
   "cell_type": "markdown",
   "metadata": {},
   "source": [
    "2. Password Strength checker"
   ]
  },
  {
   "cell_type": "code",
   "execution_count": 3,
   "metadata": {},
   "outputs": [
    {
     "name": "stdout",
     "output_type": "stream",
     "text": [
      "Moderate Password. Strenght is 2. Suggestions:\n",
      "Password must be of 8 characters\n",
      "Password must have one upper case\n",
      "Must alteast have one character\n"
     ]
    }
   ],
   "source": [
    "def password_strength_checker(password = input(\"Enter your Password\")):\n",
    "    strength = 0\n",
    "    remarks = []\n",
    "\n",
    "    # Check the length of the password\n",
    "    if len(password) >= 8:\n",
    "        strength+= 1\n",
    "    else:\n",
    "        remarks.append(\"Password must be of 8 characters\")\n",
    "    # check for the upper case \n",
    "    has_upper = any(char.isupper() for char in password)\n",
    "    if has_upper:\n",
    "        strength+= 1\n",
    "    else:\n",
    "        remarks.append(\"Password must have one upper case\")\n",
    "    \n",
    "    # Checks is their any lower case\n",
    "    has_lower = any(char.islower() for char in password)\n",
    "    if has_lower:\n",
    "        strength+= 1\n",
    "    else:\n",
    "        remarks.append(\"Password must have atleast one lowercase\")\n",
    "    # checks for the any digit\n",
    "    has_digit = any(char.isdigit for char in password)\n",
    "    if has_digit:\n",
    "        strength+= 1\n",
    "    else:\n",
    "        remarks.append(\"Must have atleast one digit\")\n",
    "    # Check for special characters\n",
    "    has_char = any(char in '!@#$%^&*<>?\":/.,;[] ~`' for char in password)\n",
    "    if has_char:\n",
    "        strength+= 1\n",
    "    else:\n",
    "        remarks.append(\"Must alteast have one character\")\n",
    "    if strength == 5:\n",
    "        return f'Strong Password. strength is {strength}'\n",
    "    elif 3>= strength <= 5:\n",
    "        return f'Moderate Password. Strenght is {strength}. Suggestions:\\n'+'\\n'.join(remarks)\n",
    "    else :\n",
    "        return f'Weak Password.Strength is {strength}. Suggestions: \\n '+ '\\n'.join(remarks)\n",
    "\n",
    "\n",
    "print(password_strength_checker())"
   ]
  },
  {
   "cell_type": "markdown",
   "metadata": {},
   "source": [
    "3. Palindrome"
   ]
  },
  {
   "cell_type": "code",
   "execution_count": 2,
   "metadata": {},
   "outputs": [
    {
     "name": "stdout",
     "output_type": "stream",
     "text": [
      "The sting is palindrome\n"
     ]
    }
   ],
   "source": [
    "def is_it_palindrome(string):\n",
    "    # Convert the string to lowercase and remove non-alphanumeric characters\n",
    "    string = ''.join(filter(str.isalnum, string)).lower()\n",
    "    # Check if the string reads the same backward\n",
    "    return string == string[::-1]\n",
    "\n",
    "to_check = input()\n",
    "if is_it_palindrome(to_check):\n",
    "    print(\"The sting is palindrome\")\n",
    "else:\n",
    "    print(\"The string is not palindrome\")"
   ]
  },
  {
   "cell_type": "markdown",
   "metadata": {},
   "source": [
    "4. Factorial using Recursion"
   ]
  },
  {
   "cell_type": "code",
   "execution_count": null,
   "metadata": {},
   "outputs": [
    {
     "data": {
      "text/plain": [
       "120"
      ]
     },
     "execution_count": 1,
     "metadata": {},
     "output_type": "execute_result"
    }
   ],
   "source": [
    "def factorial(n = int(input())):\n",
    "    # Base Case 1\n",
    "    if n== 0 or n == 1:\n",
    "        return 1\n",
    "    # Base Case 2\n",
    "    if n< 0:\n",
    "        return \"Factorial is not defeined for negative numbers\"\n",
    "    return n * factorial(n-1) \n",
    "\n",
    "factorial()"
   ]
  },
  {
   "cell_type": "code",
   "execution_count": 1,
   "metadata": {},
   "outputs": [
    {
     "name": "stdout",
     "output_type": "stream",
     "text": [
      "120\n"
     ]
    }
   ],
   "source": [
    "import math\n",
    "\n",
    "print(math.factorial(5))"
   ]
  },
  {
   "cell_type": "markdown",
   "metadata": {},
   "source": [
    "5. Function to Read A file and count the frequency of each word"
   ]
  },
  {
   "cell_type": "code",
   "execution_count": 12,
   "metadata": {},
   "outputs": [
    {
     "name": "stdout",
     "output_type": "stream",
     "text": [
      "this: 2\n",
      "is: 1\n",
      "mohd: 1\n",
      "rayyan: 1\n",
      "bin: 1\n",
      "moh: 1\n",
      "jaweed: 1\n",
      "an: 3\n",
      "experience: 1\n",
      "tutor: 1\n",
      "for: 1\n",
      "good: 2\n",
      "job: 1\n",
      "call: 1\n",
      "me: 1\n",
      "at: 1\n",
      "+91-8106931514: 1\n"
     ]
    }
   ],
   "source": [
    "def count_word(file_path):\n",
    "    word_count = {}\n",
    "    try:\n",
    "        with open(file_path, 'r', encoding='utf-8') as file:\n",
    "            for line in file:\n",
    "                words = line.split()\n",
    "                for word in words:\n",
    "                    # Normalize word by converting to lowercase and stripping punctuation\n",
    "                    word = word.lower().strip(\",.!?\\\"';:-()[]{}\")\n",
    "                    word_count[word] = word_count.get(word, 0) + 1\n",
    "        return word_count\n",
    "    except FileNotFoundError:\n",
    "        print(f\"Error: File not found at {file_path}\")\n",
    "        return None\n",
    "\n",
    "# Example usage\n",
    "file_path = r'D:\\python\\Functions in python\\example.text'  # Replace with your actual file path\n",
    "word_frequencies = count_word(file_path)\n",
    "\n",
    "if word_frequencies:\n",
    "    for word, count in word_frequencies.items():\n",
    "        print(f\"{word}: {count}\")"
   ]
  },
  {
   "cell_type": "markdown",
   "metadata": {},
   "source": [
    "7. Validating an Email Adress"
   ]
  },
  {
   "cell_type": "code",
   "execution_count": 15,
   "metadata": {},
   "outputs": [
    {
     "name": "stdout",
     "output_type": "stream",
     "text": [
      "example@example.com:Not Valid\n",
      "user.name@domain.co:Not Valid\n",
      "invalid-email:Not Valid\n",
      "user@domain:Not Valid\n",
      "user@domain.c:Not Valid\n"
     ]
    }
   ],
   "source": [
    "import re\n",
    "\n",
    "def is_valid(email):\n",
    "    # Regular Expression to validate email_id\n",
    "    email_regex = r'^[a-zA-Z0-9._%+-]+@[a-zA-Z0-9.-]+\\\\.[a-zA-Z]{2,}$'\n",
    "    # The re.match() method checks if the entire string matches the pattern\n",
    "    return re.match(email_regex, email) is not None\n",
    "\n",
    "emails = [\n",
    "    \"example@example.com\",   # Valid\n",
    "    \"user.name@domain.co\",   # Valid\n",
    "    \"invalid-email\",         # Invalid: No '@'\n",
    "    \"user@domain\",           # Invalid: Missing top-level domain\n",
    "    \"user@domain.c\",         # Invalid: Top-level domain too short\n",
    "]\n",
    "\n",
    "for email in emails:\n",
    "    # Using ternitary operator\n",
    "    print(f\"{email}:{'Valid' if is_valid(email) else 'Not Valid'}\")"
   ]
  }
 ],
 "metadata": {
  "kernelspec": {
   "display_name": "Python 3",
   "language": "python",
   "name": "python3"
  },
  "language_info": {
   "codemirror_mode": {
    "name": "ipython",
    "version": 3
   },
   "file_extension": ".py",
   "mimetype": "text/x-python",
   "name": "python",
   "nbconvert_exporter": "python",
   "pygments_lexer": "ipython3",
   "version": "3.13.0"
  }
 },
 "nbformat": 4,
 "nbformat_minor": 2
}
