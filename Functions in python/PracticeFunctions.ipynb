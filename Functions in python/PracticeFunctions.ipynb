{
 "cells": [
  {
   "cell_type": "markdown",
   "metadata": {},
   "source": [
    "1. Temperature Conversion\n"
   ]
  },
  {
   "cell_type": "code",
   "execution_count": 12,
   "metadata": {},
   "outputs": [
    {
     "data": {
      "text/plain": [
       "'37.0C'"
      ]
     },
     "execution_count": 12,
     "metadata": {},
     "output_type": "execute_result"
    }
   ],
   "source": [
    "# Main Function for Jupyter Notebook\n",
    "def temperature(temp = float(input()), unit = str(input())):\n",
    "    if unit == 'C':\n",
    "        return f\"{(temp*9/5)+32}F\"\n",
    "    elif unit == 'F':\n",
    "        return f\"{(temp-32)*5/9}C\"\n",
    "    return f\"{temp}, {unit}\"\n",
    "\n",
    "temperature()"
   ]
  },
  {
   "cell_type": "markdown",
   "metadata": {},
   "source": [
    "2. Password Strength checker"
   ]
  },
  {
   "cell_type": "code",
   "execution_count": null,
   "metadata": {},
   "outputs": [
    {
     "name": "stdout",
     "output_type": "stream",
     "text": [
      "Moderate Password. Suggestions:\n",
      "Password must be of 8 characters\n",
      "Password must have one upper case\n",
      "Must alteast have one character\n"
     ]
    }
   ],
   "source": [
    "def password_strength_checker(password = input()):\n",
    "    strength = 0\n",
    "    remarks = []\n",
    "\n",
    "    # Check the length of the password\n",
    "    if len(password) >= 8:\n",
    "        strength+= 1\n",
    "    else:\n",
    "        remarks.append(\"Password must be of 8 characters\")\n",
    "    # check for the upper case \n",
    "    has_upper = any(char.isupper() for char in password)\n",
    "    if has_upper:\n",
    "        strength+= 1\n",
    "    else:\n",
    "        remarks.append(\"Password must have one upper case\")\n",
    "    \n",
    "    # Checks is their any lower case\n",
    "    has_lower = any(char.islower() for char in password)\n",
    "    if has_lower:\n",
    "        strength+= 1\n",
    "    else:\n",
    "        remarks.append(\"Password must have atleast one lowercase\")\n",
    "    # checks for the any digit\n",
    "    has_digit = any(char.isdigit for char in password)\n",
    "    if has_digit:\n",
    "        strength+= 1\n",
    "    else:\n",
    "        remarks.append(\"Must have atleast one digit\")\n",
    "    # Check for special characters\n",
    "    has_char = any(char in '!@#$%^&*<>?\":/.,;[] ~`' for char in password)\n",
    "    if has_char:\n",
    "        strength+= 1\n",
    "    else:\n",
    "        remarks.append(\"Must alteast have one character\")\n",
    "    if strength == 5:\n",
    "        return f'Strong Password. strength is {strength}'\n",
    "    elif 3>= strength <= 5:\n",
    "        return f'Moderate Password. Suggestions:\\n'+'\\n'.join(remarks)\n",
    "    else :\n",
    "        return f'Weak Password. Suggestions: \\n '+ '\\n'.join(remarks)\n",
    "\n",
    "\n",
    "print(password_strength_checker())"
   ]
  },
  {
   "cell_type": "code",
   "execution_count": null,
   "metadata": {},
   "outputs": [],
   "source": []
  }
 ],
 "metadata": {
  "kernelspec": {
   "display_name": "Python 3",
   "language": "python",
   "name": "python3"
  },
  "language_info": {
   "codemirror_mode": {
    "name": "ipython",
    "version": 3
   },
   "file_extension": ".py",
   "mimetype": "text/x-python",
   "name": "python",
   "nbconvert_exporter": "python",
   "pygments_lexer": "ipython3",
   "version": "3.13.0"
  }
 },
 "nbformat": 4,
 "nbformat_minor": 2
}
