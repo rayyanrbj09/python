{
 "cells": [
  {
   "cell_type": "markdown",
   "metadata": {},
   "source": [
    "A function in Python is a block of reusable code that performs a specific task. Functions help organize code, make it modular, and allow for reuse."
   ]
  },
  {
   "cell_type": "code",
   "execution_count": null,
   "metadata": {},
   "outputs": [],
   "source": [
    "# defining a function\n",
    "\n",
    "def function_name(parameters):\n",
    "    # Code block\n",
    "    return parameters #optional\n",
    "\n",
    "# Calling a function\n",
    "# function_name((#arguments))"
   ]
  },
  {
   "cell_type": "code",
   "execution_count": null,
   "metadata": {},
   "outputs": [
    {
     "name": "stdout",
     "output_type": "stream",
     "text": [
      "Hello saad, you are 20 years old!\n"
     ]
    }
   ],
   "source": [
    "# Default Arguments\n",
    "def greet(name= 'Rayyan', age = 20):\n",
    "    print(f\"Hello {name}, you are {age} years old!\")\n",
    "\n",
    "greet()"
   ]
  },
  {
   "cell_type": "markdown",
   "metadata": {},
   "source": [
    "Positional Arguments"
   ]
  },
  {
   "cell_type": "code",
   "execution_count": 2,
   "metadata": {},
   "outputs": [
    {
     "name": "stdout",
     "output_type": "stream",
     "text": [
      "15\n"
     ]
    }
   ],
   "source": [
    "# Variable length arguments\n",
    "\n",
    "def print_numbers(*numbers):\n",
    "    return sum(numbers)\n",
    "\n",
    "print(print_numbers(1, 2, 3, 4,5 ))"
   ]
  },
  {
   "cell_type": "code",
   "execution_count": null,
   "metadata": {},
   "outputs": [
    {
     "data": {
      "text/plain": [
       "3.0"
      ]
     },
     "execution_count": 9,
     "metadata": {},
     "output_type": "execute_result"
    }
   ],
   "source": [
    "# Passing multpile values as a single arguments\n",
    "# Making it iterable\n",
    "def avereage(*numbers):\n",
    "    return sum(numbers)/len(numbers)\n",
    "\n",
    "avereage(1, 2, 3, 4, 5)"
   ]
  },
  {
   "cell_type": "markdown",
   "metadata": {},
   "source": [
    "Key word Arguments"
   ]
  },
  {
   "cell_type": "code",
   "execution_count": 11,
   "metadata": {},
   "outputs": [
    {
     "name": "stdout",
     "output_type": "stream",
     "text": [
      "name:Rayyan\n",
      "age:20\n",
      "country:india\n"
     ]
    }
   ],
   "source": [
    "def info_students(**kwargs):\n",
    "    for key, value in kwargs.items():\n",
    "        print(f\"{key}:{value}\")\n",
    "    \n",
    "info_students(name = 'Rayyan', age = 20, country = 'india')"
   ]
  },
  {
   "cell_type": "code",
   "execution_count": null,
   "metadata": {},
   "outputs": [],
   "source": []
  }
 ],
 "metadata": {
  "kernelspec": {
   "display_name": "Python 3",
   "language": "python",
   "name": "python3"
  },
  "language_info": {
   "codemirror_mode": {
    "name": "ipython",
    "version": 3
   },
   "file_extension": ".py",
   "mimetype": "text/x-python",
   "name": "python",
   "nbconvert_exporter": "python",
   "pygments_lexer": "ipython3",
   "version": "3.13.0"
  }
 },
 "nbformat": 4,
 "nbformat_minor": 2
}
