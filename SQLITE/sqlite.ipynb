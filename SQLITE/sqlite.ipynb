{
 "cells": [
  {
   "cell_type": "markdown",
   "id": "a8bebd4b",
   "metadata": {},
   "source": [
    "# SQL and SQLite3\n",
    "\n",
    "## SQL\n",
    "SQL (Structured Query Language) is a standard programming language used to manage and manipulate relational databases. It allows users to perform various operations such as querying data, inserting new records, updating existing records, and deleting data. SQL is widely used due to its simplicity and ability to handle large datasets efficiently.\n",
    "\n",
    "### Common SQL Commands:\n",
    "- **SELECT**: Retrieve data from a database.\n",
    "- **INSERT**: Add new records to a table.\n",
    "- **UPDATE**: Modify existing records in a table.\n",
    "- **DELETE**: Remove records from a table.\n",
    "- **CREATE TABLE**: Define a new table in the database.\n",
    "- **DROP TABLE**: Delete a table from the database.\n",
    "\n",
    "## SQLite3\n",
    "SQLite3 is a lightweight, self-contained, serverless database engine that uses SQL for database management. It is an embedded database, meaning it is stored as a single file on disk, making it ideal for small to medium-sized applications, prototyping, and testing.\n",
    "\n",
    "### Features of SQLite3:\n",
    "- **Serverless**: No need for a separate server process.\n",
    "- **Zero Configuration**: No setup or administration required.\n",
    "- **Cross-Platform**: Works on multiple operating systems.\n",
    "- **Lightweight**: Minimal resource usage.\n",
    "\n",
    "### Using SQLite3 in Python:\n",
    "The `sqlite3` module in Python provides an interface to interact with SQLite databases. It allows you to create, query, and manage SQLite databases directly from your Python code."
   ]
  },
  {
   "cell_type": "code",
   "execution_count": null,
   "id": "bb6d7b53",
   "metadata": {},
   "outputs": [
    {
     "data": {
      "text/plain": [
       "<sqlite3.Connection at 0x2aa638b53f0>"
      ]
     },
     "execution_count": 1,
     "metadata": {},
     "output_type": "execute_result"
    }
   ],
   "source": [
    "import sqlite3\n",
    "\n",
    "# Connect to SQLite database (or create it if it doesn't exist)\n",
    "con = sqlite3.connect('example_database.db')\n",
    "con"
   ]
  },
  {
   "cell_type": "code",
   "execution_count": null,
   "id": "7013839d",
   "metadata": {},
   "outputs": [],
   "source": [
    "# Create a cursor object using the cursor() method\n",
    "cur = con.cursor()\n",
    "# Create a table if it doesn't exist\n",
    "cur.execute('''\n",
    "CREATE TABLE IF NOT EXISTS users (\n",
    "    id INTEGER PRIMARY KEY,\n",
    "    name TEXT NOT NULL,\n",
    "    age INTEGER NOT NULL\n",
    ")''')\n",
    "\n",
    "# Commit the changes\n",
    "con.commit()"
   ]
  },
  {
   "cell_type": "code",
   "execution_count": 7,
   "id": "f58dda1a",
   "metadata": {},
   "outputs": [],
   "source": [
    "# Insert some data into the table\n",
    "cur.execute('''\n",
    "INSERT INTO users (name, age)\n",
    " VALUES (?, ?)''', ('Alice', 30)\n",
    ")\n",
    "\n",
    "con.commit()"
   ]
  },
  {
   "cell_type": "code",
   "execution_count": 12,
   "id": "2d89cd4c",
   "metadata": {},
   "outputs": [
    {
     "name": "stdout",
     "output_type": "stream",
     "text": [
      "(1, 'Alice', 31)\n",
      "(2, 'Bob', 25)\n",
      "(3, 'Alice', 31)\n",
      "(4, 'Alice', 31)\n"
     ]
    }
   ],
   "source": [
    "cur.execute('Select * from users')\n",
    "rows = cur.fetchall()\n",
    "for row in rows:\n",
    "    print(row)"
   ]
  },
  {
   "cell_type": "code",
   "execution_count": null,
   "id": "e23d8c25",
   "metadata": {},
   "outputs": [],
   "source": [
    "# Update a age of a user\n",
    "cur.execute('''\n",
    "UPDATE users\n",
    "SET age = ?\n",
    "WHERE name = ?''', (31, 'Alice')\n",
    ")\n",
    "con.commit()"
   ]
  },
  {
   "cell_type": "code",
   "execution_count": null,
   "id": "6ae5b70c",
   "metadata": {},
   "outputs": [
    {
     "name": "stdout",
     "output_type": "stream",
     "text": [
      "(1, 'Bob', 25, 1234567890, '123 Main St')\n",
      "(2, 'Charlie', 35, 9876543210, '456 Elm St')\n",
      "(3, 'David', 28, 5555555555, '789 Oak St')\n",
      "(4, 'Eve', 22, 1111111111, '101 Pine St')\n",
      "(5, 'Frank', 40, 2222222222, '202 Maple St')\n"
     ]
    }
   ],
   "source": [
    "cur.execute('''\n",
    "        Create table if not exists users2 (\n",
    "        id INTEGER PRIMARY KEY,\n",
    "        name TEXT NOT NULL,\n",
    "        age INTEGER NOT NULL,\n",
    "        phoneno Integer NOT NULL,\n",
    "        address TEXT NOT NULL\n",
    ")''')\n",
    "\n",
    "user2_data = [\n",
    "    ('Bob', 25, 1234567890, '123 Main St'),\n",
    "    ('Charlie', 35, 9876543210, '456 Elm St'),\n",
    "    ('David', 28, 5555555555, '789 Oak St'),\n",
    "    ('Eve', 22, 1111111111, '101 Pine St'),\n",
    "    ('Frank', 40, 2222222222, '202 Maple St'),\n",
    "]\n",
    "\n",
    "# Insert multiple rows of data into the table\n",
    "cur.executemany('''\n",
    "INSERT INTO users2 (name, age, phoneno, address)\n",
    "VALUES (?, ?, ?, ?)''', user2_data)\n",
    "\n",
    "con.commit()\n",
    "# Fetch and print all rows from the table\n",
    "cur.execute('SELECT * FROM users2')\n",
    "rows = cur.fetchall()\n",
    "for row in rows:\n",
    "    print(row)\n"
   ]
  },
  {
   "cell_type": "code",
   "execution_count": 23,
   "id": "9df516e0",
   "metadata": {},
   "outputs": [],
   "source": [
    "# Close the connection for the database temporarily\n",
    "con.close()"
   ]
  },
  {
   "cell_type": "code",
   "execution_count": null,
   "id": "b8ffd1dd",
   "metadata": {},
   "outputs": [],
   "source": []
  }
 ],
 "metadata": {
  "kernelspec": {
   "display_name": "Python 3",
   "language": "python",
   "name": "python3"
  },
  "language_info": {
   "codemirror_mode": {
    "name": "ipython",
    "version": 3
   },
   "file_extension": ".py",
   "mimetype": "text/x-python",
   "name": "python",
   "nbconvert_exporter": "python",
   "pygments_lexer": "ipython3",
   "version": "3.11.9"
  }
 },
 "nbformat": 4,
 "nbformat_minor": 5
}
