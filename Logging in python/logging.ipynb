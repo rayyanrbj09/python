{
 "cells": [
  {
   "cell_type": "markdown",
   "id": "46961198",
   "metadata": {},
   "source": [
    "Logging is the process of recording events, messages, or errors from your program while it runs. It helps trackwhat’s happening in your code—especially useful for:\n",
    "\n",
    "Debugging,Monitoring,Troubleshooting and Auditing (checking what happened and when).\n",
    "\n",
    "Instead of using print() for everything, logging gives you more control and options."
   ]
  },
  {
   "cell_type": "markdown",
   "id": "1653fe8e",
   "metadata": {},
   "source": [
    "Levels : DEBUG, INFO, WARNING, ERROR, CRITICAL\n",
    "\n",
    "1. DEBUG | Detailed info for diagnosing problems\n",
    "2. INFO | General updates or confirmations\n",
    "3. WARNING | Something unexpected but not crashing\n",
    "4. ERROR | A serious problem; the program can continue\n",
    "5. CRITICAL | Very serious error; might crash the app"
   ]
  },
  {
   "cell_type": "code",
   "execution_count": 4,
   "id": "502bc600",
   "metadata": {},
   "outputs": [
    {
     "name": "stderr",
     "output_type": "stream",
     "text": [
      "DEBUG:root:This is a debug message\n",
      "INFO:root:This is an info message\n",
      "WARNING:root:This is a warning message\n",
      "ERROR:root:This is an error message\n",
      "CRITICAL:root:This is a critical message\n"
     ]
    }
   ],
   "source": [
    "import logging\n",
    "\n",
    "# Configure the bascic logging setting \n",
    "# Setting up the logging level to DEBUG to capture all levels of log messages\n",
    "\n",
    "logging.basicConfig(level=logging.DEBUG)\n",
    "\n",
    "# Creating a logger object to log messages\n",
    "logging.debug(\"This is a debug message\")\n",
    "logging.info(\"This is an info message\") \n",
    "logging.warning(\"This is a warning message\")\n",
    "logging.error(\"This is an error message\")\n",
    "logging.critical(\"This is a critical message\")"
   ]
  },
  {
   "cell_type": "code",
   "execution_count": 2,
   "id": "9f6a925b",
   "metadata": {},
   "outputs": [],
   "source": [
    "import logging\n",
    "\n",
    "# Configuring the logging format\n",
    "logging.basicConfig(\n",
    "    filename='app.log',\n",
    "    filemode='w',\n",
    "    level= logging.DEBUG,\n",
    "    format = '%(asctime)s-%(name)s - %(levelname)s - %(message)s',\n",
    "    datefmt = '%Y-%m-%d %H:%M:%S'\n",
    ")\n",
    "logging.debug(\"This is a debug message\")\n",
    "logging.info(\"This is an info message\") \n",
    "logging.warning(\"This is a warning message\")\n",
    "logging.error(\"This is an error message\")\n",
    "logging.critical(\"This is a critical message\")"
   ]
  },
  {
   "cell_type": "markdown",
   "id": "72b04ac0",
   "metadata": {},
   "source": [
    "Logging With Multiple Loggers"
   ]
  },
  {
   "cell_type": "code",
   "execution_count": 2,
   "id": "d78bd83a",
   "metadata": {},
   "outputs": [],
   "source": [
    "import logging\n",
    "\n",
    "# Creating a logger for module 1\n",
    "logger1 = logging.getLogger('Module1')\n",
    "logger1.setLevel(logging.DEBUG)\n",
    "\n",
    "# Creating a file handler for module 2\n",
    "logger2 = logging.getLogger('Module2')\n",
    "logger2.setLevel(logging.INFO)\n",
    "\n",
    "logging.basicConfig(\\\n",
    "    filename='multipleloggers.log',\n",
    "    filemode='a',\n",
    "    level=logging.DEBUG,\n",
    "    format='%(asctime)s - %(name)s - %(levelname)s - %(message)s',\n",
    "    datefmt='%Y-%m-%d %H:%M:%S'\n",
    ")"
   ]
  },
  {
   "cell_type": "code",
   "execution_count": 4,
   "id": "9c41b3e0",
   "metadata": {},
   "outputs": [],
   "source": [
    "logger1.debug(\"This is a debug message from Module 1\")\n",
    "logger2.critical(\"This is a critical message from Module 2\")    "
   ]
  },
  {
   "cell_type": "code",
   "execution_count": null,
   "id": "e11fce59",
   "metadata": {},
   "outputs": [],
   "source": []
  }
 ],
 "metadata": {
  "kernelspec": {
   "display_name": "Python 3",
   "language": "python",
   "name": "python3"
  },
  "language_info": {
   "codemirror_mode": {
    "name": "ipython",
    "version": 3
   },
   "file_extension": ".py",
   "mimetype": "text/x-python",
   "name": "python",
   "nbconvert_exporter": "python",
   "pygments_lexer": "ipython3",
   "version": "3.13.3"
  }
 },
 "nbformat": 4,
 "nbformat_minor": 5
}
