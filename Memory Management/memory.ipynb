{
 "cells": [
  {
   "cell_type": "markdown",
   "id": "ff386e29",
   "metadata": {},
   "source": [
    "Memory Managment in Pyhton involves a combination of automatic garbage collection, refenrece counting, and various internal optimizations to efficiently mange memory allocation and deallocation.\n",
    "1. Key Concepts in Python Memory Managment\n",
    "2. Memory allocation and deallocation\n",
    "3. Refernce Counting\n",
    "4. Garbage Collection \n",
    "5. The gc module\n",
    "6. Memory Management Best pratices"
   ]
  },
  {
   "cell_type": "markdown",
   "id": "12246375",
   "metadata": {},
   "source": [
    "### Garbage Collection\n",
    "\n",
    "Garbage collection in Python is a process by which the interpreter automatically manages memory by reclaiming unused memory and cleaning up objects that are no longer in use. Python uses reference counting as the primary mechanism for memory management, and when an object's reference count drops to zero, it becomes eligible for garbage collection. \n",
    "\n",
    "Additionally, Python's `gc` module provides an interface to the garbage collection mechanism, allowing developers to manually trigger garbage collection or inspect objects that are unreachable but not yet collected. Circular references, which cannot be handled by reference counting alone, are also detected and resolved by the garbage collector."
   ]
  },
  {
   "cell_type": "code",
   "execution_count": null,
   "id": "ec889ef4",
   "metadata": {},
   "outputs": [],
   "source": [
    "import sys \n",
    "\n"
   ]
  },
  {
   "cell_type": "code",
   "execution_count": 5,
   "id": "9effeea6",
   "metadata": {},
   "outputs": [],
   "source": [
    "import gc\n",
    "\n",
    "gc.enable()\n"
   ]
  },
  {
   "cell_type": "code",
   "execution_count": 11,
   "id": "7c8d6907",
   "metadata": {},
   "outputs": [
    {
     "data": {
      "text/plain": [
       "0"
      ]
     },
     "execution_count": 11,
     "metadata": {},
     "output_type": "execute_result"
    }
   ],
   "source": [
    "gc.collect()"
   ]
  },
  {
   "cell_type": "code",
   "execution_count": 10,
   "id": "f434b3fc",
   "metadata": {},
   "outputs": [],
   "source": [
    "gc.disable()"
   ]
  },
  {
   "cell_type": "code",
   "execution_count": 12,
   "id": "3a882395",
   "metadata": {},
   "outputs": [
    {
     "name": "stdout",
     "output_type": "stream",
     "text": [
      "gc.get_stats() =  [{'collections': 65, 'collected': 1401, 'uncollectable': 0}, {'collections': 5, 'collected': 403, 'uncollectable': 0}, {'collections': 6, 'collected': 40, 'uncollectable': 0}]\n"
     ]
    }
   ],
   "source": [
    "print(\"gc.get_stats() = \", gc.get_stats())"
   ]
  },
  {
   "cell_type": "code",
   "execution_count": 13,
   "id": "efbe79a1",
   "metadata": {},
   "outputs": [
    {
     "name": "stdout",
     "output_type": "stream",
     "text": [
      "gc.garbage =  []\n"
     ]
    }
   ],
   "source": [
    "print(\"gc.garbage = \", gc.garbage)"
   ]
  },
  {
   "cell_type": "markdown",
   "id": "4f43c90d",
   "metadata": {},
   "source": [
    "### Memory management best practices\n",
    "\n",
    "1. Use Local Variables: Local variables have a shorter lifespan and are freed sooner than global variables.\n",
    "2. Avoid Circular References: Circular references can lead to memory leaks if not properly managed.\n",
    "3. Use Generators: Generators produce items one at a time and only keep one item in memory at a time, making them memory efficient.\n",
    "4. Explicitly Delete Objects: Use the del statement to delete variables and objects explicitly.\n",
    "5. Profile Memory Usage: Use memory profiling tools like tracemalloc and memory_profiler to identify memory leaks and optimize memory usage."
   ]
  },
  {
   "cell_type": "code",
   "execution_count": null,
   "id": "922abf6b",
   "metadata": {},
   "outputs": [
    {
     "name": "stdout",
     "output_type": "stream",
     "text": [
      "Creating obj1\n",
      "Creating obj2\n",
      "Deleting obj1\n",
      "Deleting obj2\n"
     ]
    },
    {
     "data": {
      "text/plain": [
       "9"
      ]
     },
     "execution_count": 17,
     "metadata": {},
     "output_type": "execute_result"
    }
   ],
   "source": [
    "# Handling Circular references\n",
    "import gc \n",
    "\n",
    "class MyObject:\n",
    "    def __init__(self, name):\n",
    "        self.name = name\n",
    "        print(f\"Creating {self.name}\")\n",
    "\n",
    "    def __del__(self):\n",
    "        print(f\"Deleting {self.name}\")\n",
    "\n",
    "obj1 = MyObject(\"obj1\")\n",
    "obj2 = MyObject(\"obj2\")\n",
    "obj1.ref = obj2\n",
    "obj2.ref = obj1\n",
    "\n",
    "del obj1\n",
    "del obj2\n",
    "\n",
    "# Manually trigger garbage collection\n",
    "gc.collect()        "
   ]
  },
  {
   "cell_type": "code",
   "execution_count": null,
   "id": "e32b2477",
   "metadata": {},
   "outputs": [],
   "source": []
  },
  {
   "cell_type": "code",
   "execution_count": null,
   "id": "4824da6a",
   "metadata": {},
   "outputs": [],
   "source": []
  }
 ],
 "metadata": {
  "kernelspec": {
   "display_name": "Python 3",
   "language": "python",
   "name": "python3"
  },
  "language_info": {
   "codemirror_mode": {
    "name": "ipython",
    "version": 3
   },
   "file_extension": ".py",
   "mimetype": "text/x-python",
   "name": "python",
   "nbconvert_exporter": "python",
   "pygments_lexer": "ipython3",
   "version": "3.13.3"
  }
 },
 "nbformat": 4,
 "nbformat_minor": 5
}
