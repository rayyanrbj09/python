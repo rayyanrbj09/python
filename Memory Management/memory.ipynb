{
 "cells": [
  {
   "cell_type": "markdown",
   "id": "ff386e29",
   "metadata": {},
   "source": [
    "\n",
    "Memory Managment in Pyhton involves a combination of automatic garbage collection, refenrece counting, and various internal optimizations to efficiently mange memory allocation and deallocation.\n",
    "1. Key Concepts in Python Memory Managment\n",
    "2. Memory allocation and deallocation\n",
    "3. Refernce Counting\n",
    "4. Garbage Collection \n",
    "5. The gc module\n",
    "6. Memory Management Best pratices"
   ]
  },
  {
   "cell_type": "markdown",
   "id": "12246375",
   "metadata": {},
   "source": []
  },
  {
   "cell_type": "code",
   "execution_count": 5,
   "id": "37e4d381",
   "metadata": {},
   "outputs": [
    {
     "name": "stdout",
     "output_type": "stream",
     "text": [
      "[{'collections': 65, 'collected': 1400, 'uncollectable': 0}, {'collections': 5, 'collected': 427, 'uncollectable': 0}, {'collections': 0, 'collected': 0, 'uncollectable': 0}]\n"
     ]
    }
   ],
   "source": [
    "import gc\n",
    "gc.enable()\n",
    "gc.set_debug(gc.DEBUG_LEAK)\n",
    "print(gc.get_stats())\n",
    "gc.disable()"
   ]
  },
  {
   "cell_type": "code",
   "execution_count": 5,
   "id": "c3ca0d2b",
   "metadata": {},
   "outputs": [
    {
     "name": "stdout",
     "output_type": "stream",
     "text": [
      "The list is a palindrome.\n"
     ]
    }
   ],
   "source": [
    "lst = [1, 2, 3, 4, 4, 3, 2, 1, ]\n",
    "is_palindrome = lambda lst: lst == lst[::-1]\n",
    "if is_palindrome(lst):\n",
    "    print(\"The list is a palindrome.\")\n",
    "else:\n",
    "    print(\"The list is not a palindrome.\")"
   ]
  },
  {
   "cell_type": "code",
   "execution_count": null,
   "id": "566f9fd4",
   "metadata": {},
   "outputs": [],
   "source": []
  },
  {
   "cell_type": "markdown",
   "id": "1eaef675",
   "metadata": {},
   "source": []
  }
 ],
 "metadata": {
  "kernelspec": {
   "display_name": "Python 3",
   "language": "python",
   "name": "python3"
  },
  "language_info": {
   "codemirror_mode": {
    "name": "ipython",
    "version": 3
   },
   "file_extension": ".py",
   "mimetype": "text/x-python",
   "name": "python",
   "nbconvert_exporter": "python",
   "pygments_lexer": "ipython3",
   "version": "3.13.0"
  }
 },
 "nbformat": 4,
 "nbformat_minor": 5
}
