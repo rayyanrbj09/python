{
 "cells": [
  {
   "cell_type": "markdown",
   "id": "ff386e29",
   "metadata": {},
   "source": [
    "Memory Managment in Pyhton involves a combination of automatic garbage collection, refenrece counting, and various internal optimizations to efficiently mange memory allocation and deallocation.\n",
    "1. Key Concepts in Python Memory Managment\n",
    "2. Memory allocation and deallocation\n",
    "3. Refernce Counting\n",
    "4. Garbage Collection \n",
    "5. The gc module\n",
    "6. Memory Management Best pratices"
   ]
  },
  {
   "cell_type": "markdown",
   "id": "12246375",
   "metadata": {},
   "source": []
  }
 ],
 "metadata": {
  "language_info": {
   "name": "python"
  }
 },
 "nbformat": 4,
 "nbformat_minor": 5
}
