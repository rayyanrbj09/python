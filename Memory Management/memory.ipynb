{
 "cells": [
  {
   "cell_type": "markdown",
   "id": "ff386e29",
   "metadata": {},
   "source": [
    "\n",
    "Memory Managment in Pyhton involves a combination of automatic garbage collection, refenrece counting, and various internal optimizations to efficiently mange memory allocation and deallocation.\n",
    "1. Key Concepts in Python Memory Managment\n",
    "2. Memory allocation and deallocation\n",
    "3. Refernce Counting\n",
    "4. Garbage Collection \n",
    "5. The gc module\n",
    "6. Memory Management Best pratices"
   ]
  },
  {
   "cell_type": "markdown",
   "id": "12246375",
   "metadata": {},
   "source": []
  }
 ],
 "metadata": {
  "kernelspec": {
   "display_name": "Python 3",
   "language": "python",
   "name": "python3"
  },
  "language_info": {
   "name": "python",
   "version": "3.13.3"
  }
 },
 "nbformat": 4,
 "nbformat_minor": 5
}
